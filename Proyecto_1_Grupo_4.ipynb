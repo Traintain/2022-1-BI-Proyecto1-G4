{
  "nbformat": 4,
  "nbformat_minor": 0,
  "metadata": {
    "colab": {
      "name": "Proyecto 1 - Grupo 4.ipynb",
      "provenance": [],
      "authorship_tag": "ABX9TyNbGvcbCn8B114YfVBYsn/9",
      "include_colab_link": true
    },
    "kernelspec": {
      "name": "python3",
      "display_name": "Python 3"
    },
    "language_info": {
      "name": "python"
    }
  },
  "cells": [
    {
      "cell_type": "markdown",
      "metadata": {
        "id": "view-in-github",
        "colab_type": "text"
      },
      "source": [
        "<a href=\"https://colab.research.google.com/github/Traintain/2022-1-BI-Proyecto1-G4/blob/main/Proyecto_1_Grupo_4.ipynb\" target=\"_parent\"><img src=\"https://colab.research.google.com/assets/colab-badge.svg\" alt=\"Open In Colab\"/></a>"
      ]
    },
    {
      "cell_type": "markdown",
      "source": [
        "**Inteligencia de negocios 2022-1**\n",
        "\n",
        "**Proyecto 1 - Eligibilidad de un paciente para ensayos clínicos**\n",
        "\n",
        "Juan Manuel Rivera López - 201534131\n",
        "\n",
        "Juan Sebastián Arévalo - 201728738\n",
        "\n",
        "Juan David Villamil – 201812268\n"
      ],
      "metadata": {
        "id": "z2rhHQS7TBHc"
      }
    },
    {
      "cell_type": "code",
      "execution_count": null,
      "metadata": {
        "id": "HevaqRXwOacB"
      },
      "outputs": [],
      "source": [
        ""
      ]
    }
  ]
}